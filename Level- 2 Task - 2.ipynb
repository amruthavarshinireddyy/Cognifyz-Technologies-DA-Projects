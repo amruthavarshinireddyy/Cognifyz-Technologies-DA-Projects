{
 "cells": [
  {
   "cell_type": "markdown",
   "id": "21c74cee-2792-4441-ac12-9a1b9dc6f20b",
   "metadata": {},
   "source": [
    "CUISINE COMBINATIONS"
   ]
  },
  {
   "cell_type": "code",
   "execution_count": 1,
   "id": "b6f1489e-c6bb-47cb-9656-da16802db87d",
   "metadata": {},
   "outputs": [],
   "source": [
    "import pandas as pd\n",
    "import matplotlib.pyplot as plt"
   ]
  },
  {
   "cell_type": "code",
   "execution_count": 12,
   "id": "b2ff876d-7f79-4b63-addf-74f7b96866c7",
   "metadata": {},
   "outputs": [],
   "source": [
    "df = pd.read_csv(\"restaurant_dataset.csv\")\n"
   ]
  },
  {
   "cell_type": "code",
   "execution_count": 13,
   "id": "941fd313-dd7e-47e5-84df-4e5126107a6c",
   "metadata": {},
   "outputs": [],
   "source": [
    "cuisines = df[\"Cuisines\"]\n",
    "aggregate_ratings = df[\"Aggregate rating\"]"
   ]
  },
  {
   "cell_type": "code",
   "execution_count": 14,
   "id": "680dfc05-842d-4e9f-9cdb-adc740376636",
   "metadata": {},
   "outputs": [],
   "source": [
    "cuisine_combinations_counts = cuisines.value_counts()\n"
   ]
  },
  {
   "cell_type": "markdown",
   "id": "5ec64420-f414-4bdd-9d66-45cb2befaf30",
   "metadata": {},
   "source": [
    "MOST COMMON COMBINATIONS OF CUISINES IN THE DATASET"
   ]
  },
  {
   "cell_type": "code",
   "execution_count": 15,
   "id": "8cd4a312-2bb3-4ba0-83ee-b21113f5aca1",
   "metadata": {},
   "outputs": [
    {
     "name": "stdout",
     "output_type": "stream",
     "text": [
      "Most common Cuisine Combinations:\n",
      "Cuisines\n",
      "North Indian                      936\n",
      "North Indian, Chinese             511\n",
      "Chinese                           354\n",
      "Fast Food                         354\n",
      "North Indian, Mughlai             334\n",
      "Cafe                              299\n",
      "Bakery                            218\n",
      "North Indian, Mughlai, Chinese    197\n",
      "Bakery, Desserts                  170\n",
      "Street Food                       149\n",
      "Name: count, dtype: int64\n"
     ]
    }
   ],
   "source": [
    "most_common_cuisine_combinations = cuisine_combinations_counts.head(10)\n",
    "print(\"Most common Cuisine Combinations:\")\n",
    "print(most_common_cuisine_combinations)"
   ]
  },
  {
   "cell_type": "code",
   "execution_count": 16,
   "id": "7898a69a-bd86-4eed-81fa-13640d8eb68e",
   "metadata": {},
   "outputs": [],
   "source": [
    "cuisine_combinations_avg_rating = df.groupby(\"Cuisines\")[\"Aggregate rating\"].mean()\n"
   ]
  },
  {
   "cell_type": "code",
   "execution_count": 17,
   "id": "53e6a288-cc05-4597-b236-a62e4e4a60bb",
   "metadata": {},
   "outputs": [
    {
     "name": "stdout",
     "output_type": "stream",
     "text": [
      "\n",
      "Average ratings for the Top 10 Cuisine Combinations:\n",
      "Cuisines\n",
      "American, BBQ, Sandwich         4.9\n",
      "American, Burger, Grill         4.9\n",
      "American, Caribbean, Seafood    4.9\n",
      "American, Coffee and Tea        4.9\n",
      "American, Sandwich, Tea         4.9\n",
      "BBQ, Breakfast, Southern        4.9\n",
      "Burger, Bar Food, Steak         4.9\n",
      "Continental, Indian             4.9\n",
      "European, Asian, Indian         4.9\n",
      "European, Contemporary          4.9\n",
      "Name: Aggregate rating, dtype: float64\n"
     ]
    }
   ],
   "source": [
    "top_10_avg_ratings = cuisine_combinations_avg_rating.nlargest(10)\n",
    "print(\"\\nAverage ratings for the Top 10 Cuisine Combinations:\")\n",
    "print(top_10_avg_ratings)"
   ]
  },
  {
   "cell_type": "code",
   "execution_count": null,
   "id": "0982d059-27b7-42a3-8f07-60afcfac3c01",
   "metadata": {},
   "outputs": [],
   "source": []
  }
 ],
 "metadata": {
  "kernelspec": {
   "display_name": "Python 3 (ipykernel)",
   "language": "python",
   "name": "python3"
  },
  "language_info": {
   "codemirror_mode": {
    "name": "ipython",
    "version": 3
   },
   "file_extension": ".py",
   "mimetype": "text/x-python",
   "name": "python",
   "nbconvert_exporter": "python",
   "pygments_lexer": "ipython3",
   "version": "3.11.7"
  }
 },
 "nbformat": 4,
 "nbformat_minor": 5
}
